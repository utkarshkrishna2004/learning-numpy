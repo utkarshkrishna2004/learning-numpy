{
 "cells": [
  {
   "cell_type": "markdown",
   "id": "1a6275c1",
   "metadata": {},
   "source": [
    "## numpy array and basics\n",
    "learning about numpy with chaiaurcode 💻"
   ]
  },
  {
   "cell_type": "code",
   "execution_count": 1,
   "id": "f8e62cc9",
   "metadata": {},
   "outputs": [],
   "source": [
    "import numpy as np\n"
   ]
  },
  {
   "cell_type": "markdown",
   "id": "8198f823",
   "metadata": {},
   "source": [
    "---"
   ]
  },
  {
   "cell_type": "markdown",
   "id": "54e9f231",
   "metadata": {},
   "source": [
    "### creating array from list"
   ]
  },
  {
   "cell_type": "code",
   "execution_count": 2,
   "id": "43d9a87a",
   "metadata": {},
   "outputs": [
    {
     "name": "stdout",
     "output_type": "stream",
     "text": [
      "1D array: \n",
      " [1 2 3 4 5]\n",
      "2D array: \n",
      " [[1 2 3]\n",
      " [4 5 6]]\n"
     ]
    }
   ],
   "source": [
    "arr_1d = np.array([1, 2, 3, 4, 5])\n",
    "print(\"1D array: \\n\", arr_1d)\n",
    "\n",
    "arr_2d = np.array([[1,2,3], [4,5,6]])\n",
    "print(\"2D array: \\n\", arr_2d)"
   ]
  },
  {
   "cell_type": "markdown",
   "id": "e7c71858",
   "metadata": {},
   "source": [
    "---"
   ]
  },
  {
   "cell_type": "markdown",
   "id": "08215c8c",
   "metadata": {},
   "source": [
    "### list v/s numpy array\n"
   ]
  },
  {
   "cell_type": "code",
   "execution_count": 3,
   "id": "15c53f36",
   "metadata": {},
   "outputs": [
    {
     "name": "stdout",
     "output_type": "stream",
     "text": [
      "Python list multiplication:  [1, 2, 3, 1, 2, 3]\n",
      "Python array multiplication:  [2 4 6]\n",
      "\n",
      "List operation time:  0.8913118839263916\n",
      "\n",
      "Numpy operation time:  0.0417172908782959\n"
     ]
    }
   ],
   "source": [
    "py_list = [1,2,3]\n",
    "print(\"Python list multiplication: \", py_list * 2)\n",
    "\n",
    "\n",
    "np_array = np.array([1, 2, 3]) # element wise multiplication\n",
    "print(\"Python array multiplication: \", np_array * 2)\n",
    "\n",
    "import time\n",
    "start = time.time()\n",
    "py_list = [i*2 for i in range(10_000_000)]\n",
    "print(\"\\nList operation time: \", time.time() - start)\n",
    "\n",
    "\n",
    "start = time.time()\n",
    "np_array = np.arange(10_000_000) * 2\n",
    "print(\"\\nNumpy operation time: \", time.time() - start)\n"
   ]
  },
  {
   "cell_type": "markdown",
   "id": "c49dd76b",
   "metadata": {},
   "source": [
    "---"
   ]
  },
  {
   "cell_type": "markdown",
   "id": "f8b224e9",
   "metadata": {},
   "source": [
    "### creating array from scratch"
   ]
  },
  {
   "cell_type": "code",
   "execution_count": 4,
   "id": "8be2bd19",
   "metadata": {},
   "outputs": [
    {
     "name": "stdout",
     "output_type": "stream",
     "text": [
      "zeros array: \n",
      " [[0. 0. 0. 0.]\n",
      " [0. 0. 0. 0.]\n",
      " [0. 0. 0. 0.]]\n",
      "ones array: \n",
      " [[1. 1.]\n",
      " [1. 1.]\n",
      " [1. 1.]\n",
      " [1. 1.]]\n",
      "full array: \n",
      " [[77 77 77 77]\n",
      " [77 77 77 77]\n",
      " [77 77 77 77]\n",
      " [77 77 77 77]]\n",
      "random array: \n",
      " [[0.77608566 0.10657884 0.98060621]\n",
      " [0.77551599 0.97182953 0.21188961]]\n",
      "sequence array: \n",
      " [ 0  2  4  6  8 10]\n"
     ]
    }
   ],
   "source": [
    "zeros = np.zeros((3, 4))\n",
    "print(\"zeros array: \\n\", zeros)\n",
    "\n",
    "ones = np.ones((4, 2))\n",
    "print(\"ones array: \\n\", ones)\n",
    "\n",
    "full = np.full((4, 4), 77)\n",
    "print(\"full array: \\n\", full)\n",
    "\n",
    "random = np.random.random((2,3))\n",
    "print(\"random array: \\n\", random)\n",
    "\n",
    "sequence = np.arange(0, 11, 2)\n",
    "print(\"sequence array: \\n\", sequence)"
   ]
  },
  {
   "cell_type": "markdown",
   "id": "aa1f169b",
   "metadata": {},
   "source": [
    "---"
   ]
  },
  {
   "cell_type": "markdown",
   "id": "589a2a3e",
   "metadata": {},
   "source": [
    "### vector, matrix and tensor"
   ]
  },
  {
   "cell_type": "code",
   "execution_count": 6,
   "id": "c9e157fd",
   "metadata": {},
   "outputs": [
    {
     "name": "stdout",
     "output_type": "stream",
     "text": [
      "vector:  [1 2 3]\n",
      "matrix: \n",
      " [[1 2 3]\n",
      " [4 5 6]]\n",
      "tensor: \n",
      " [[[1 2]\n",
      "  [3 4]]\n",
      "\n",
      " [[5 6]\n",
      "  [7 8]]]\n"
     ]
    }
   ],
   "source": [
    "vector = np.array([1, 2, 3])\n",
    "print(\"vector: \", vector)\n",
    "\n",
    "matrix = np.array([[1,2,3],\n",
    "                   [4,5,6]])\n",
    "print(\"matrix: \\n\", matrix)\n",
    "\n",
    "\n",
    "tensor = np.array([[[1,2], [3,4]],\n",
    "                   [[5,6], [7,8]]])\n",
    "print(\"tensor: \\n\", tensor)"
   ]
  },
  {
   "cell_type": "markdown",
   "id": "1db5d6ea",
   "metadata": {},
   "source": [
    "---"
   ]
  },
  {
   "cell_type": "markdown",
   "id": "173d25a8",
   "metadata": {},
   "source": [
    "### array properties"
   ]
  },
  {
   "cell_type": "code",
   "execution_count": 10,
   "id": "02001f11",
   "metadata": {},
   "outputs": [
    {
     "name": "stdout",
     "output_type": "stream",
     "text": [
      "shape:  (2, 3)\n",
      "dimension:  2\n",
      "size:  6\n",
      "data type:  <U21\n"
     ]
    }
   ],
   "source": [
    "arr = np.array([[1,2,3],\n",
    "                [4,5,6]])\n",
    "\n",
    "print(\"shape: \", arr.shape)\n",
    "print(\"dimension: \", arr.ndim)\n",
    "print(\"size: \", arr.size)\n",
    "print(\"data type: \", arr.dtype)"
   ]
  },
  {
   "cell_type": "markdown",
   "id": "33870ac3",
   "metadata": {},
   "source": [
    "---"
   ]
  },
  {
   "cell_type": "markdown",
   "id": "2f0e95a4",
   "metadata": {},
   "source": [
    "### array reshaping"
   ]
  },
  {
   "cell_type": "code",
   "execution_count": 21,
   "id": "74b7e222",
   "metadata": {},
   "outputs": [
    {
     "name": "stdout",
     "output_type": "stream",
     "text": [
      "original array:  [ 0  1  2  3  4  5  6  7  8  9 10 11]\n",
      "\n",
      "reshaped array: \n",
      " [[ 0  1  2]\n",
      " [ 3  4  5]\n",
      " [ 6  7  8]\n",
      " [ 9 10 11]]\n",
      "\n",
      "flattened array:  [ 0  1  2  3  4  5  6  7  8  9 10 11]\n",
      "\n",
      "raveled array:  [ 0  1  2  3  4  5  6  7  8  9 10 11]\n",
      "\n",
      "transposed array: \n",
      " [[ 0  3  6  9]\n",
      " [ 1  4  7 10]\n",
      " [ 2  5  8 11]]\n"
     ]
    }
   ],
   "source": [
    "arr = np.arange(12)\n",
    "print(\"original array: \", arr)\n",
    "\n",
    "reshaped_arr = arr.reshape((4, 3))\n",
    "print(\"\\nreshaped array: \\n\", reshaped_arr)\n",
    "\n",
    "flattened = reshaped_arr.flatten()\n",
    "print(\"\\nflattened array: \", flattened)\n",
    "\n",
    "# ravel (returns view, instead of copy)\n",
    "raveled = reshaped_arr.ravel()\n",
    "print(\"\\nraveled array: \", raveled)\n",
    "\n",
    "# transpose\n",
    "transpose = reshaped_arr.T\n",
    "print(\"\\ntransposed array: \\n\", transpose)"
   ]
  },
  {
   "cell_type": "markdown",
   "id": "9c478dd6",
   "metadata": {},
   "source": [
    "---"
   ]
  }
 ],
 "metadata": {
  "kernelspec": {
   "display_name": "venv",
   "language": "python",
   "name": "python3"
  },
  "language_info": {
   "codemirror_mode": {
    "name": "ipython",
    "version": 3
   },
   "file_extension": ".py",
   "mimetype": "text/x-python",
   "name": "python",
   "nbconvert_exporter": "python",
   "pygments_lexer": "ipython3",
   "version": "3.12.3"
  }
 },
 "nbformat": 4,
 "nbformat_minor": 5
}
