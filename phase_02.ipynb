{
 "cells": [
  {
   "cell_type": "markdown",
   "id": "3e20db54",
   "metadata": {},
   "source": [
    "## numpy array operations "
   ]
  },
  {
   "cell_type": "code",
   "execution_count": 1,
   "id": "950440f2",
   "metadata": {},
   "outputs": [],
   "source": [
    "import numpy as np"
   ]
  },
  {
   "cell_type": "code",
   "execution_count": 2,
   "id": "b749d387",
   "metadata": {},
   "outputs": [
    {
     "name": "stdout",
     "output_type": "stream",
     "text": [
      "array:  [ 1  2  3  4  5  6  7  8  9 10]\n",
      "basic slicing:  [3 4 5 6 7]\n",
      "with step slicing:  [2 4 6 8]\n",
      "negative indexing:  8\n"
     ]
    }
   ],
   "source": [
    "arr = np.array([1,2,3,4,5,6,7,8,9,10])\n",
    "print(\"array: \", arr)\n",
    "\n",
    "print(\"basic slicing: \", arr[2:7])\n",
    "\n",
    "print(\"with step slicing: \", arr[1:8:2])\n",
    "\n",
    "print(\"negative indexing: \", arr[-3])\n",
    "\n",
    "\n"
   ]
  },
  {
   "cell_type": "markdown",
   "id": "9c8f6ce2",
   "metadata": {},
   "source": [
    "---"
   ]
  },
  {
   "cell_type": "markdown",
   "id": "f6ed20ad",
   "metadata": {},
   "source": [
    "### on 2D arrays"
   ]
  },
  {
   "cell_type": "code",
   "execution_count": 3,
   "id": "351d3b4a",
   "metadata": {},
   "outputs": [
    {
     "name": "stdout",
     "output_type": "stream",
     "text": [
      "original 2D array: \n",
      " [[1 2 3]\n",
      " [4 5 6]\n",
      " [7 8 9]]\n",
      "specific element:  6\n",
      "entire row:  [7 8 9]\n",
      "entire column:  [2 5 8]\n"
     ]
    }
   ],
   "source": [
    "arr_2d = np.array([[1,2,3],\n",
    "                   [4,5,6],\n",
    "                   [7,8,9]])\n",
    "\n",
    "print(\"original 2D array: \\n\", arr_2d)\n",
    "\n",
    "print(\"specific element: \", arr_2d[1, 2]) # --> 1st row & 2nd element (goes like, 0th row, 1st row, 2nd row & same for column)\n",
    "\n",
    "print(\"entire row: \", arr_2d[2])\n",
    "\n",
    "print(\"entire column: \", arr_2d[:, 1])\n"
   ]
  },
  {
   "cell_type": "markdown",
   "id": "bfc7f57f",
   "metadata": {},
   "source": [
    "---"
   ]
  },
  {
   "cell_type": "markdown",
   "id": "5c17c9c3",
   "metadata": {},
   "source": [
    "### sorting"
   ]
  },
  {
   "cell_type": "code",
   "execution_count": 4,
   "id": "dc75acb3",
   "metadata": {},
   "outputs": [
    {
     "name": "stdout",
     "output_type": "stream",
     "text": [
      "unsorted array:  [3 1 4 5 2 9 2 6]\n",
      "sorted array:  [1 2 2 3 4 5 6 9]\n",
      "unsorted 2D array: \n",
      " [[3 1]\n",
      " [1 2]\n",
      " [2 3]]\n",
      "sorted 2d array by col: \n",
      " [[1 1]\n",
      " [2 2]\n",
      " [3 3]]\n",
      "sorted 2d array by col: \n",
      " [[1 3]\n",
      " [1 2]\n",
      " [2 3]]\n"
     ]
    }
   ],
   "source": [
    "unsorted = np.array([3, 1, 4, 5, 2, 9, 2, 6])\n",
    "print(\"unsorted array: \", unsorted)\n",
    "\n",
    "print(\"sorted array: \", np.sort(unsorted))\n",
    "\n",
    "\n",
    "arr_2d_unsorted = np.array([[3,1], [1,2], [2,3]])\n",
    "print(\"unsorted 2D array: \\n\", arr_2d_unsorted)\n",
    "\n",
    "print(\"sorted 2d array by col: \\n\", np.sort(arr_2d_unsorted, axis=0)) # axis = 0\n",
    "print(\"sorted 2d array by col: \\n\", np.sort(arr_2d_unsorted, axis=1)) # axis = 1\n"
   ]
  },
  {
   "cell_type": "markdown",
   "id": "81c02bd5",
   "metadata": {},
   "source": [
    "---"
   ]
  },
  {
   "cell_type": "markdown",
   "id": "56844879",
   "metadata": {},
   "source": [
    "### filtering"
   ]
  },
  {
   "cell_type": "code",
   "execution_count": 5,
   "id": "bbd572b9",
   "metadata": {},
   "outputs": [
    {
     "name": "stdout",
     "output_type": "stream",
     "text": [
      "even numbers:  [ 2  4  6  8 10]\n"
     ]
    }
   ],
   "source": [
    "numbers = np.array([1,2,3,4,5,6,7,8,9,10])\n",
    "even_nums = numbers[numbers % 2 == 0]\n",
    "print(\"even numbers: \", even_nums)"
   ]
  },
  {
   "cell_type": "markdown",
   "id": "31abfd0e",
   "metadata": {},
   "source": [
    "### filter with mask"
   ]
  },
  {
   "cell_type": "code",
   "execution_count": 6,
   "id": "cc86d6b4",
   "metadata": {},
   "outputs": [
    {
     "name": "stdout",
     "output_type": "stream",
     "text": [
      "numbers greater than 5:  [ 6  7  8  9 10]\n"
     ]
    }
   ],
   "source": [
    "mask = numbers > 5\n",
    "print(\"numbers greater than 5: \", numbers[mask])"
   ]
  },
  {
   "cell_type": "markdown",
   "id": "39588a7e",
   "metadata": {},
   "source": [
    "---"
   ]
  },
  {
   "cell_type": "markdown",
   "id": "9f1251d6",
   "metadata": {},
   "source": [
    "### fancy indexing v/s np.where()"
   ]
  },
  {
   "cell_type": "code",
   "execution_count": null,
   "id": "38744d22",
   "metadata": {},
   "outputs": [
    {
     "name": "stdout",
     "output_type": "stream",
     "text": [
      "[1 3 5]\n",
      "(array([5, 6, 7, 8, 9]),)\n",
      "np where:  [ 6  7  8  9 10]\n"
     ]
    }
   ],
   "source": [
    "indices = [0, 2, 4]\n",
    "\n",
    "print(numbers[indices])\n",
    "\n",
    "\n",
    "\n",
    "where_result = np.where(numbers > 5)\n",
    "\n",
    "print(where_result)\n",
    "print(\"np where: \", numbers[where_result])"
   ]
  },
  {
   "cell_type": "markdown",
   "id": "17977f5a",
   "metadata": {},
   "source": [
    "---\n",
    "### creating array from conditions"
   ]
  },
  {
   "cell_type": "code",
   "execution_count": 12,
   "id": "0577340b",
   "metadata": {},
   "outputs": [
    {
     "name": "stdout",
     "output_type": "stream",
     "text": [
      "[ 1  2  3  4  5 24 28 32 36 40]\n"
     ]
    }
   ],
   "source": [
    "condition_array = np.where(numbers > 5, numbers * 4, numbers)\n",
    "print(condition_array)"
   ]
  },
  {
   "cell_type": "code",
   "execution_count": null,
   "id": "4ff62f74",
   "metadata": {},
   "outputs": [],
   "source": [
    "\"\"\"\n",
    "\n",
    "if(numbers > 5):\n",
    "    numbers * 4\n",
    "else:\n",
    "    numbers\n",
    "\n",
    "\"\"\""
   ]
  },
  {
   "cell_type": "markdown",
   "id": "729a1490",
   "metadata": {},
   "source": [
    "---\n",
    "### adding and removing data"
   ]
  },
  {
   "cell_type": "code",
   "execution_count": 16,
   "id": "73a0e3a4",
   "metadata": {},
   "outputs": [
    {
     "name": "stdout",
     "output_type": "stream",
     "text": [
      "[5 7 9]\n",
      "combined array:  [1 2 3 4 5 6]\n"
     ]
    }
   ],
   "source": [
    "arr1 = np.array([1,2,3])\n",
    "arr2 = np.array([4,5,6])\n",
    "\n",
    "summing_arr = arr1 + arr2\n",
    "print(summing_arr)\n",
    "\n",
    "combined = np.concatenate((arr1, arr2))\n",
    "print(\"combined array: \", combined)"
   ]
  },
  {
   "cell_type": "markdown",
   "id": "e772ec77",
   "metadata": {},
   "source": [
    "### array compatibility"
   ]
  },
  {
   "cell_type": "code",
   "execution_count": 18,
   "id": "4df82479",
   "metadata": {},
   "outputs": [
    {
     "name": "stdout",
     "output_type": "stream",
     "text": [
      "compatibility shapes: False\n"
     ]
    }
   ],
   "source": [
    "a = np.array([1,2,3])\n",
    "b = np.array([4,5,6,10])\n",
    "c = np.array([7,8,9])\n",
    "\n",
    "print(\"compatibility shapes:\", a.shape == b.shape)"
   ]
  },
  {
   "cell_type": "code",
   "execution_count": null,
   "id": "91bbdf91",
   "metadata": {},
   "outputs": [
    {
     "name": "stdout",
     "output_type": "stream",
     "text": [
      "original: \n",
      " [[1 2]\n",
      " [3 4]]\n",
      "with new row: \n",
      " [[1 2]\n",
      " [3 4]\n",
      " [5 6]]\n",
      "with new col: \n",
      " [[1 2 7]\n",
      " [3 4 8]]\n"
     ]
    }
   ],
   "source": [
    "original = np.array([[1,2], [3,4]])\n",
    "new_row = np.array([5,6])\n",
    "\n",
    "# vstack() is used to add rows\n",
    "with_new_row = np.vstack((original, new_row))\n",
    "print(\"original: \\n\", original)\n",
    "print(\"with new row: \\n\", with_new_row)\n",
    "\n",
    "# hstack() is used to add cols\n",
    "new_col = np.array([[7], [8]])\n",
    "with_new_col = np.hstack((original, new_col))\n",
    "print(\"with new col: \\n\", with_new_col)"
   ]
  },
  {
   "cell_type": "markdown",
   "id": "2ee69749",
   "metadata": {},
   "source": [
    "---\n",
    "### deletion"
   ]
  },
  {
   "cell_type": "code",
   "execution_count": 29,
   "id": "abafb2e0",
   "metadata": {},
   "outputs": [
    {
     "name": "stdout",
     "output_type": "stream",
     "text": [
      "array after deletion:  [1 2 4 5]\n"
     ]
    }
   ],
   "source": [
    "arr = np.array([1,2,3,4,5])\n",
    "\n",
    "deleted = np.delete(arr, 2)\n",
    "\n",
    "print(\"array after deletion: \", deleted)"
   ]
  }
 ],
 "metadata": {
  "kernelspec": {
   "display_name": "venv",
   "language": "python",
   "name": "python3"
  },
  "language_info": {
   "codemirror_mode": {
    "name": "ipython",
    "version": 3
   },
   "file_extension": ".py",
   "mimetype": "text/x-python",
   "name": "python",
   "nbconvert_exporter": "python",
   "pygments_lexer": "ipython3",
   "version": "3.12.3"
  }
 },
 "nbformat": 4,
 "nbformat_minor": 5
}
